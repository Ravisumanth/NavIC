{
  "cells": [
    {
      "cell_type": "code",
      "execution_count": null,
      "metadata": {
        "colab": {
          "base_uri": "https://localhost:8080/"
        },
        "id": "RFuKA97qI0Kd",
        "outputId": "e20d42ac-b755-4391-b95b-4e8def894e03"
      },
      "outputs": [],
      "source": []
    },
    {
      "cell_type": "code",
      "execution_count": 2,
      "metadata": {
        "id": "BfFPSo3uJl4U"
      },
      "outputs": [],
      "source": [
        "import numpy as np\n",
        "import scipy.constants as sciconst\n",
        "import matplotlib.pyplot as plt\n",
        "import navicsim as navs\n"
      ]
    },
    {
      "cell_type": "markdown",
      "metadata": {
        "id": "ykUAtvE-I0Kg"
      },
      "source": [
        "## Simulation constants"
      ]
    },
    {
      "cell_type": "code",
      "execution_count": 4,
      "metadata": {
        "id": "Nd4nOSFMI0Ki"
      },
      "outputs": [],
      "source": [
        "codeFreqBasis = 1.023e6\n",
        "sampleRate = 10*codeFreqBasis\n",
        "samplePeriod = 1/sampleRate\n",
        "\n",
        "simDuration = 28 #48 sec for 2400 symbols #in Seconds\n",
        "timeStep = 1e-3\n",
        "numSteps = round(simDuration/timeStep)\n",
        "samplePerStep = int(timeStep/samplePeriod)\n",
        "\n",
        "codeTable = navs.genNavicCaTable(sampleRate)\n",
        "codeTableSampCnt = len(codeTable)\n",
        "satId = np.array([5, 7, 3, 1])\n",
        "numChannel = len(satId)"
      ]
    },
    {
      "cell_type": "code",
      "execution_count": 5,
      "metadata": {
        "id": "ulRlRJLWI0Ki"
      },
      "outputs": [],
      "source": [
        "c = sciconst.speed_of_light\n",
        "fe = 1176.45e6;\n",
        "Dt = 12;\n",
        "DtLin = 10*np.log10(Dt)\n",
        "Dr = 4;\n",
        "DrLin = 10*np.log10(Dr)\n",
        "Pt = 44.8;\n",
        "k = sciconst.Boltzmann;\n",
        "T = 315;\n",
        "rxBW = 40e6;\n",
        "Nr = k*T*rxBW;"
      ]
    },
    {
      "cell_type": "code",
      "execution_count": 6,
      "metadata": {
        "id": "mxKGlXDvI0Ki"
      },
      "outputs": [],
      "source": [
        "PLLIntegrationTime = 1e-3\n",
        "PLLNoiseBandwidth = 90 # In Hz\n",
        "FLLNoiseBandwidth = 4  # In Hz\n",
        "DLLNoiseBandwidth = 1  # In Hz"
      ]
    },
    {
      "cell_type": "markdown",
      "metadata": {
        "id": "0LcpmMs3I0Kj"
      },
      "source": [
        "## Channel configuration"
      ]
    },
    {
      "cell_type": "code",
      "execution_count": 8,
      "metadata": {
        "id": "o3-jv7Q-I0Kj"
      },
      "outputs": [],
      "source": [
        "fShift = np.array([3589, 2256, 1596, 2568])\n",
        "\n",
        "channelpfo = navs.PhaseFrequencyOffset(sampleRate)\n",
        "\n",
        "sigDelay = np.array([300.34, 587.21, 425.89, 312.88])\n",
        "dynamicDelayRange = 50\n",
        "staticDelay = np.round(sigDelay - dynamicDelayRange)\n",
        "channelstatd = navs.IntegerDelay(staticDelay)\n",
        "channelvard = navs.FractionalDelay(4, 65535)\n",
        "\n",
        "sqrtPr = np.sqrt(Pt*DtLin*DrLin)*(1/(4*np.pi*(fe+fShift)*sigDelay*samplePeriod))"
      ]
    },
    {
      "cell_type": "markdown",
      "metadata": {
        "id": "Ye50On3wI0Kk"
      },
      "source": [
        "## Run Simulation"
      ]
    },
    {
      "cell_type": "code",
      "execution_count": 9,
      "metadata": {
        "id": "1hr3u1x1I0Kk",
        "outputId": "f9fb1915-5843-4d2e-dd09-7685d58174c4"
      },
      "outputs": [
        {
          "name": "stdout",
          "output_type": "stream",
          "text": [
            "Acquisition results for PRN ID 5\n",
            " Status:True Doppler:3500 Delay/Code-Phase:300/30.0\n",
            "Acquisition results for PRN ID 7\n",
            " Status:True Doppler:2000 Delay/Code-Phase:587/58.7\n",
            "Acquisition results for PRN ID 3\n",
            " Status:True Doppler:1500 Delay/Code-Phase:426/42.6\n",
            "Acquisition results for PRN ID 1\n",
            " Status:True Doppler:2500 Delay/Code-Phase:313/31.3\n"
          ]
        },
        {
          "ename": "KeyboardInterrupt",
          "evalue": "",
          "output_type": "error",
          "traceback": [
            "\u001b[0;31m---------------------------------------------------------------------------\u001b[0m",
            "\u001b[0;31mKeyboardInterrupt\u001b[0m                         Traceback (most recent call last)",
            "\u001b[1;32m/home/ravi/navic/codes/e2e_sim/main.ipynb Cell 10\u001b[0m line \u001b[0;36m1\n\u001b[1;32m     <a href='vscode-notebook-cell:/home/ravi/navic/codes/e2e_sim/main.ipynb#X12sZmlsZQ%3D%3D?line=10'>11</a>\u001b[0m iqsig \u001b[39m=\u001b[39m modulator\u001b[39m.\u001b[39mModulate(navdata, codeTable[:, satId\u001b[39m-\u001b[39m\u001b[39m1\u001b[39m])\n\u001b[1;32m     <a href='vscode-notebook-cell:/home/ravi/navic/codes/e2e_sim/main.ipynb#X12sZmlsZQ%3D%3D?line=12'>13</a>\u001b[0m \u001b[39m# Doppler shift\u001b[39;00m\n\u001b[0;32m---> <a href='vscode-notebook-cell:/home/ravi/navic/codes/e2e_sim/main.ipynb#X12sZmlsZQ%3D%3D?line=13'>14</a>\u001b[0m doppsig \u001b[39m=\u001b[39m channelpfo\u001b[39m.\u001b[39;49mOffset(iqsig, fShift)\n\u001b[1;32m     <a href='vscode-notebook-cell:/home/ravi/navic/codes/e2e_sim/main.ipynb#X12sZmlsZQ%3D%3D?line=15'>16</a>\u001b[0m \u001b[39m# Delay\u001b[39;00m\n\u001b[1;32m     <a href='vscode-notebook-cell:/home/ravi/navic/codes/e2e_sim/main.ipynb#X12sZmlsZQ%3D%3D?line=16'>17</a>\u001b[0m staticDelayedSignal \u001b[39m=\u001b[39m channelstatd\u001b[39m.\u001b[39mDelay(doppsig)\n",
            "File \u001b[0;32m~/navic/codes/e2e_sim/navicsim.py:418\u001b[0m, in \u001b[0;36mPhaseFrequencyOffset.Offset\u001b[0;34m(self, x, fShift)\u001b[0m\n\u001b[1;32m    416\u001b[0m arg \u001b[39m=\u001b[39m np\u001b[39m.\u001b[39marray([\u001b[39m2\u001b[39m\u001b[39m*\u001b[39mnp\u001b[39m.\u001b[39mpi\u001b[39m*\u001b[39mn\u001b[39m*\u001b[39mfShift[i]\u001b[39m*\u001b[39m\u001b[39mself\u001b[39m\u001b[39m.\u001b[39mdt \u001b[39m+\u001b[39m \u001b[39mself\u001b[39m\u001b[39m.\u001b[39moff_phi[i] \u001b[39mfor\u001b[39;00m i \u001b[39min\u001b[39;00m \u001b[39mrange\u001b[39m(\u001b[39m0\u001b[39m,M)])\u001b[39m.\u001b[39mT \u001b[39m+\u001b[39m \u001b[39mself\u001b[39m\u001b[39m.\u001b[39mphi\n\u001b[1;32m    417\u001b[0m \u001b[39mself\u001b[39m\u001b[39m.\u001b[39moff_phi \u001b[39m+\u001b[39m\u001b[39m=\u001b[39m \u001b[39m2\u001b[39m\u001b[39m*\u001b[39mnp\u001b[39m.\u001b[39mpi\u001b[39m*\u001b[39mN\u001b[39m*\u001b[39mfShift\u001b[39m*\u001b[39m\u001b[39mself\u001b[39m\u001b[39m.\u001b[39mdt\n\u001b[0;32m--> 418\u001b[0m y \u001b[39m=\u001b[39m x \u001b[39m*\u001b[39m (np\u001b[39m.\u001b[39;49mcos(arg) \u001b[39m+\u001b[39m \u001b[39m1\u001b[39mj\u001b[39m*\u001b[39mnp\u001b[39m.\u001b[39msin(arg))\n\u001b[1;32m    419\u001b[0m \u001b[39mreturn\u001b[39;00m y\n",
            "\u001b[0;31mKeyboardInterrupt\u001b[0m: "
          ]
        }
      ],
      "source": [
        "datagen = navs.NavicDataGen(50, sampleRate, numChannel)\n",
        "modulator = navs.NavicL5sModulator(sampleRate)\n",
        "\n",
        "rms = lambda x: np.sqrt(np.mean(np.abs(x)**2, axis=0))\n",
        "\n",
        "for istep in range(numSteps):\n",
        "\n",
        "    # Baseband modulation\n",
        "    navdata = datagen.GenerateBits(timeStep)\n",
        "\n",
        "    iqsig = modulator.Modulate(navdata, codeTable[:, satId-1])\n",
        "\n",
        "    # Doppler shift\n",
        "    doppsig = channelpfo.Offset(iqsig, fShift)\n",
        "\n",
        "    # Delay\n",
        "    staticDelayedSignal = channelstatd.Delay(doppsig)\n",
        "    leftoutDelay = sigDelay - staticDelay\n",
        "    delayedSig = channelvard.Delay(staticDelayedSignal, leftoutDelay)\n",
        "\n",
        "    # Power scaling\n",
        "    scaledSig = navs.PowerScale(delayedSig, sqrtPr)\n",
        "\n",
        "    # Add signals from each channel\n",
        "    resultsig = np.sum(scaledSig, axis=1)\n",
        "\n",
        "    # Generate noise\n",
        "    noisesig = (np.random.normal(scale=Nr**0.5, size=(samplePerStep, )) + 1j*np.random.normal(scale=Nr**0.5, size=(samplePerStep, )))/2**0.5\n",
        "\n",
        "    # Add thermal noise to composite signal\n",
        "    rxwaveform = resultsig + noisesig\n",
        "\n",
        "    # Scale received signal to have unit power\n",
        "    waveform = rxwaveform/rms(rxwaveform)\n",
        "\n",
        "    # Perform acquisition once from cold-start\n",
        "    if istep == 0:\n",
        "\n",
        "        # Acqusition doppler search space\n",
        "        fMin = -5000\n",
        "        fMax = 5000\n",
        "        fStep = 500\n",
        "        fSearch = np.arange(fMin, fMax+fStep, fStep)\n",
        "\n",
        "        tracker = []\n",
        "        satVis = 0\n",
        "\n",
        "        # Perform acquisition for each satellite\n",
        "        for prnId in satId:\n",
        "            status, codePhase, doppler = navs.navic_pcps_acquisition(\n",
        "                                            waveform,\n",
        "                                            codeTable[np.arange(0, samplePerStep)%codeTableSampCnt, prnId-1],\n",
        "                                            sampleRate,\n",
        "                                            fSearch\n",
        "                                        )\n",
        "            delaySamp = codePhase\n",
        "            codePhase = (codePhase % codeTableSampCnt)/(sampleRate/codeFreqBasis)\n",
        "\n",
        "            print(f\"Acquisition results for PRN ID {prnId}\\n Status:{status} Doppler:{doppler} Delay/Code-Phase:{delaySamp}/{codePhase}\")\n",
        "\n",
        "            # If a satellite is visible, initialize tracking loop\n",
        "            if(status == True):\n",
        "                satVis += 1\n",
        "\n",
        "                tracker.append(navs.NavicTracker())\n",
        "                tracker[-1].SampleRate = sampleRate\n",
        "                tracker[-1].CenterFrequency = 0\n",
        "                tracker[-1].PLLNoiseBandwidth = PLLNoiseBandwidth\n",
        "                tracker[-1].FLLNoiseBandwidth = FLLNoiseBandwidth\n",
        "                tracker[-1].DLLNoiseBandwidth = DLLNoiseBandwidth\n",
        "                tracker[-1].PLLIntegrationTime = round(PLLIntegrationTime*1e3)\n",
        "                tracker[-1].PRNID = prnId\n",
        "                tracker[-1].InitialDopplerShift = doppler\n",
        "                tracker[-1].InitialCodePhaseOffset = codePhase\n",
        "                tracker[-1].setupImpl()\n",
        "                tracker[-1].resetImpl()\n",
        "\n",
        "            trackDataShape = (numSteps*round(PLLIntegrationTime*1e3), satVis)\n",
        "            y = np.empty(trackDataShape, dtype=np.complex_)\n",
        "            fqyerr = np.empty(trackDataShape)\n",
        "            fqynco = np.empty(trackDataShape)\n",
        "            pherr = np.empty(trackDataShape)\n",
        "            phnco = np.empty(trackDataShape)\n",
        "            delayerr = np.empty(trackDataShape)\n",
        "            delaynco = np.empty(trackDataShape)\n",
        "\n",
        "    # Perform tracking for visible satellites\n",
        "    for i in range(satVis):\n",
        "      y[istep, i], fqyerr[istep, i], fqynco[istep, i], pherr[istep, i], phnco[istep, i], delayerr[istep, i], delaynco[istep, i] = tracker[i].stepImpl(waveform)\n",
        "\n",
        "print(len(y))"
      ]
    },
    {
      "cell_type": "code",
      "execution_count": 7,
      "metadata": {
        "id": "dwpg07uAI0Kl",
        "outputId": "406f8f37-9462-4bf5-b0d6-c69c260a2884"
      },
      "outputs": [
        {
          "name": "stdout",
          "output_type": "stream",
          "text": [
            "112000\n",
            "(28000, 4)\n",
            "4\n"
          ]
        }
      ],
      "source": [
        "d = y\n",
        "print(y.size)\n",
        "print(y.shape)\n",
        "print(satVis)"
      ]
    },
    {
      "cell_type": "code",
      "execution_count": null,
      "metadata": {
        "id": "3iKaOEc9I0Kl"
      },
      "outputs": [],
      "source": []
    },
    {
      "cell_type": "markdown",
      "metadata": {
        "id": "DAQqZrxVI0Kl"
      },
      "source": [
        "## Bit Synchronization"
      ]
    },
    {
      "cell_type": "code",
      "execution_count": 8,
      "metadata": {
        "id": "POLUOBMtI0Kl",
        "outputId": "03ab7f4d-2ee6-43cd-933d-3a6bb49d64c5"
      },
      "outputs": [
        {
          "name": "stdout",
          "output_type": "stream",
          "text": [
            "Synchronization index: 1\n",
            "Frame Sync status: -1\n",
            "Frame Sync: 598\n",
            "Equal\n",
            "Synchronization index: 1\n",
            "Frame Sync status: -1\n",
            "Frame Sync: 598\n",
            "Equal\n",
            "Synchronization index: 1\n",
            "Frame Sync status: -1\n",
            "Frame Sync: 259\n",
            "Not Equal\n",
            "Synchronization index: 1\n",
            "Frame Sync status: 1\n",
            "Frame Sync: 598\n",
            "Equal\n"
          ]
        }
      ],
      "source": [
        "# Example usage\n",
        "# data = np.loadtxt(\"bits.csv\", delimiter=',', dtype=np.float64)\n",
        "# print(len(data))\n",
        "#ddata = np.concatenate((np.zeros(5, dtype=np.uint8), data))\n",
        "\n",
        "for i in range(satVis):\n",
        "    n = 20 #Number of samples per bit\n",
        "    skip = 2 #Forgo few bits as the tracking loops starts early\n",
        "    k = np.imag(y[n*skip:,i])\n",
        "\n",
        "    sync_index, num_tr = navs.gnss_bit_synchronize(k, n)\n",
        "    print(\"Synchronization index:\", sync_index)\n",
        "\n",
        "    l = np.mean(k[sync_index:(((len(k)-sync_index)//n) * n) + sync_index].reshape(-1,n).T, axis=0)\n",
        "    mapbits = lambda l: np.piecewise(l, [l < 0, l >= 0], [1, 0])\n",
        "    bits = mapbits(l)\n",
        "    status, fsync_index = navs.find_sync_word(bits)\n",
        "\n",
        "    print(\"Frame Sync status:\", status)\n",
        "    print(\"Frame Sync:\", fsync_index)\n",
        "    if status == -1:\n",
        "        bits = 1*np.logical_not(bits)\n",
        "\n",
        "    sync_frames = bits[fsync_index:]\n",
        "    num_sf = len(sync_frames)//600\n",
        "    check = navs.decoder(sync_frames[0:num_sf*600].reshape(-1,600),num_sf).reshape(-1,286)\n",
        "    navbits = datagen.GetBitStream()[292:292+num_sf*292,i].reshape(-1,292)\n",
        "    for j in range(num_sf):\n",
        "        if(np.array_equal(check[j], navbits[j,:-6])):\n",
        "            print(\"Equal\")\n",
        "        else:\n",
        "            print(\"Not Equal\")\n",
        "\n",
        "\n",
        "\n"
      ]
    },
    {
      "cell_type": "code",
      "execution_count": 9,
      "metadata": {
        "id": "mClxJVfyI0Km",
        "outputId": "e945aa25-ada4-4ce8-a5c7-172ca3e4ab79"
      },
      "outputs": [
        {
          "name": "stdout",
          "output_type": "stream",
          "text": [
            "(1, 286)\n",
            "1\n",
            "(1, 600)\n"
          ]
        }
      ],
      "source": [
        "print(check.shape)\n",
        "print(num_sf)\n",
        "print((sync_frames[0:num_sf*600].reshape(-1,600)).shape)"
      ]
    },
    {
      "cell_type": "code",
      "execution_count": null,
      "metadata": {
        "id": "trJd7tP0I0Km"
      },
      "outputs": [],
      "source": []
    }
  ],
  "metadata": {
    "colab": {
      "provenance": []
    },
    "kernelspec": {
      "display_name": "Python 3",
      "language": "python",
      "name": "python3"
    },
    "language_info": {
      "codemirror_mode": {
        "name": "ipython",
        "version": 3
      },
      "file_extension": ".py",
      "mimetype": "text/x-python",
      "name": "python",
      "nbconvert_exporter": "python",
      "pygments_lexer": "ipython3",
      "version": "3.10.12"
    },
    "orig_nbformat": 4,
    "vscode": {
      "interpreter": {
        "hash": "916dbcbb3f70747c44a77c7bcd40155683ae19c65e1c03b4aa3499c5328201f1"
      }
    }
  },
  "nbformat": 4,
  "nbformat_minor": 0
}
